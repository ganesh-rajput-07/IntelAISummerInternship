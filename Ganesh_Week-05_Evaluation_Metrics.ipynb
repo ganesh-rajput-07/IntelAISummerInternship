{
 "cells": [
  {
   "cell_type": "code",
   "execution_count": 1,
   "id": "12019fd5-b404-47e3-a136-5d14cb6b19a0",
   "metadata": {},
   "outputs": [],
   "source": [
    "import numpy as np\n",
    "import pandas as pd\n",
    "from sklearn.metrics import confusion_matrix, precision_score, recall_score, f1_score\n",
    "from sklearn.metrics import mean_absolute_error, mean_squared_error, r2_score"
   ]
  },
  {
   "cell_type": "code",
   "execution_count": 2,
   "id": "d527a926-6bc4-48b0-943c-fbfff7223a6a",
   "metadata": {},
   "outputs": [],
   "source": [
    "# Step 1: Define Actual and Predicted values for classification\n",
    "actual = np.array([0, 0, 1, 0, 1, 1, 0, 1, 0, 1])\n",
    "predicted = np.array([0, 1, 1, 1, 0, 1, 0, 1, 1, 1])"
   ]
  },
  {
   "cell_type": "code",
   "execution_count": 3,
   "id": "4c989d9b-442f-44b1-8976-77510581aac1",
   "metadata": {},
   "outputs": [],
   "source": [
    "# Step 2: Compute Confusion Matrix\n",
    "cm = confusion_matrix(actual, predicted)\n",
    "tn, fp, fn, tp = cm.ravel()  # Extract TP, FP, TN, FN"
   ]
  },
  {
   "cell_type": "code",
   "execution_count": 4,
   "id": "c02171a8-9da5-4c29-b1c5-be09264510b9",
   "metadata": {},
   "outputs": [],
   "source": [
    "# Step 3: Compute Classification Metrics\n",
    "precision = precision_score(actual, predicted)\n",
    "recall = recall_score(actual, predicted)\n",
    "f1 = f1_score(actual, predicted)"
   ]
  },
  {
   "cell_type": "code",
   "execution_count": 5,
   "id": "1cefe917-beaa-42d5-addc-e896827c8d7b",
   "metadata": {},
   "outputs": [
    {
     "name": "stdout",
     "output_type": "stream",
     "text": [
      "Confusion Matrix:\n",
      " [[2 3]\n",
      " [1 4]]\n",
      "Precision: 0.57\n",
      "Recall: 0.80\n",
      "F1 Score: 0.67\n"
     ]
    }
   ],
   "source": [
    "# Step 4: Display Confusion Matrix & Metrics\n",
    "print(\"Confusion Matrix:\\n\", cm)\n",
    "print(f\"Precision: {precision:.2f}\")\n",
    "print(f\"Recall: {recall:.2f}\")\n",
    "print(f\"F1 Score: {f1:.2f}\")\n"
   ]
  },
  {
   "cell_type": "code",
   "execution_count": 6,
   "id": "a7fa7b1b-d38a-415a-b56b-73e42023be65",
   "metadata": {},
   "outputs": [],
   "source": [
    "# Step 5: Define Data for Regression Evaluation Metrics\n",
    "y_actual = np.array([100, 150, 200, 250, 300])\n",
    "y_predicted = np.array([110, 145, 190, 255, 290])"
   ]
  },
  {
   "cell_type": "code",
   "execution_count": 7,
   "id": "3892aa15-5a65-44a0-a29b-2ed27acc8007",
   "metadata": {},
   "outputs": [],
   "source": [
    "# Step 6: Compute Regression Metrics\n",
    "mae = mean_absolute_error(y_actual, y_predicted)\n",
    "mse = mean_squared_error(y_actual, y_predicted)\n",
    "rmse = np.sqrt(mse)\n",
    "r2 = r2_score(y_actual, y_predicted)"
   ]
  },
  {
   "cell_type": "code",
   "execution_count": 8,
   "id": "45b6837f-4cf7-4627-a26e-314c0642a9fd",
   "metadata": {},
   "outputs": [
    {
     "name": "stdout",
     "output_type": "stream",
     "text": [
      "\n",
      "Regression Metrics:\n",
      "Mean Absolute Error (MAE): 8.00\n",
      "Mean Squared Error (MSE): 70.00\n",
      "Root Mean Squared Error (RMSE): 8.37\n",
      "R-squared Score (R²): 0.99\n"
     ]
    }
   ],
   "source": [
    "# Step 7: Display Regression Metrics\n",
    "print(\"\\nRegression Metrics:\")\n",
    "print(f\"Mean Absolute Error (MAE): {mae:.2f}\")\n",
    "print(f\"Mean Squared Error (MSE): {mse:.2f}\")\n",
    "print(f\"Root Mean Squared Error (RMSE): {rmse:.2f}\")\n",
    "print(f\"R-squared Score (R²): {r2:.2f}\")"
   ]
  },
  {
   "cell_type": "code",
   "execution_count": null,
   "id": "1e586015-3046-4563-8836-644ba416d33c",
   "metadata": {},
   "outputs": [],
   "source": []
  }
 ],
 "metadata": {
  "kernelspec": {
   "display_name": "base",
   "language": "python",
   "name": "python3"
  },
  "language_info": {
   "codemirror_mode": {
    "name": "ipython",
    "version": 3
   },
   "file_extension": ".py",
   "mimetype": "text/x-python",
   "name": "python",
   "nbconvert_exporter": "python",
   "pygments_lexer": "ipython3",
   "version": "3.12.7"
  }
 },
 "nbformat": 4,
 "nbformat_minor": 5
}
